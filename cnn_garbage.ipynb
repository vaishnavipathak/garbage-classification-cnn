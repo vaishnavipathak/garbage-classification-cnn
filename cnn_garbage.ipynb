{
  "nbformat": 4,
  "nbformat_minor": 0,
  "metadata": {
    "colab": {
      "provenance": [],
      "gpuType": "T4",
      "authorship_tag": "ABX9TyNAalaBZ6T2YTh+AZL3/wh+",
      "include_colab_link": true
    },
    "kernelspec": {
      "name": "python3",
      "display_name": "Python 3"
    },
    "language_info": {
      "name": "python"
    },
    "accelerator": "GPU"
  },
  "cells": [
    {
      "cell_type": "markdown",
      "metadata": {
        "id": "view-in-github",
        "colab_type": "text"
      },
      "source": [
        "<a href=\"https://colab.research.google.com/github/vaishnavipathak/garbage-classification-cnn/blob/main/cnn_garbage.ipynb\" target=\"_parent\"><img src=\"https://colab.research.google.com/assets/colab-badge.svg\" alt=\"Open In Colab\"/></a>"
      ]
    },
    {
      "cell_type": "code",
      "source": [
        "import torch\n",
        "import os\n",
        "import wandb\n",
        "from torchvision import datasets, transforms\n",
        "from torch.utils.data import DataLoader, random_split\n",
        "\n",
        "\n",
        "!pip install wandb gdown\n",
        "!wandb login\n",
        "\n",
        "!gdown '1cqAJ3b_TIEqHnKQGLGjxCBKS3MUatGa6'\n",
        "\n",
        "\n",
        "DATA_DIR = \"/content/garbage_data/\"\n",
        "!unzip -q Garbage_classification.zip -d {DATA_DIR}\n",
        "\n",
        "print(\"Setup complete. Dataset downloaded and unzipped.\")"
      ],
      "metadata": {
        "id": "6iP7OS9ldlsm",
        "colab": {
          "base_uri": "https://localhost:8080/"
        },
        "outputId": "4aa306f6-0ad5-4e13-8f65-86e5c63e657b"
      },
      "execution_count": 1,
      "outputs": [
        {
          "output_type": "stream",
          "name": "stdout",
          "text": [
            "Requirement already satisfied: wandb in /usr/local/lib/python3.11/dist-packages (0.21.1)\n",
            "Requirement already satisfied: gdown in /usr/local/lib/python3.11/dist-packages (5.2.0)\n",
            "Requirement already satisfied: click!=8.0.0,>=7.1 in /usr/local/lib/python3.11/dist-packages (from wandb) (8.2.1)\n",
            "Requirement already satisfied: gitpython!=3.1.29,>=1.0.0 in /usr/local/lib/python3.11/dist-packages (from wandb) (3.1.45)\n",
            "Requirement already satisfied: packaging in /usr/local/lib/python3.11/dist-packages (from wandb) (25.0)\n",
            "Requirement already satisfied: platformdirs in /usr/local/lib/python3.11/dist-packages (from wandb) (4.3.8)\n",
            "Requirement already satisfied: protobuf!=4.21.0,!=5.28.0,<7,>=3.19.0 in /usr/local/lib/python3.11/dist-packages (from wandb) (5.29.5)\n",
            "Requirement already satisfied: pydantic<3 in /usr/local/lib/python3.11/dist-packages (from wandb) (2.11.7)\n",
            "Requirement already satisfied: pyyaml in /usr/local/lib/python3.11/dist-packages (from wandb) (6.0.2)\n",
            "Requirement already satisfied: requests<3,>=2.0.0 in /usr/local/lib/python3.11/dist-packages (from wandb) (2.32.3)\n",
            "Requirement already satisfied: sentry-sdk>=2.0.0 in /usr/local/lib/python3.11/dist-packages (from wandb) (2.34.1)\n",
            "Requirement already satisfied: typing-extensions<5,>=4.8 in /usr/local/lib/python3.11/dist-packages (from wandb) (4.14.1)\n",
            "Requirement already satisfied: beautifulsoup4 in /usr/local/lib/python3.11/dist-packages (from gdown) (4.13.4)\n",
            "Requirement already satisfied: filelock in /usr/local/lib/python3.11/dist-packages (from gdown) (3.18.0)\n",
            "Requirement already satisfied: tqdm in /usr/local/lib/python3.11/dist-packages (from gdown) (4.67.1)\n",
            "Requirement already satisfied: gitdb<5,>=4.0.1 in /usr/local/lib/python3.11/dist-packages (from gitpython!=3.1.29,>=1.0.0->wandb) (4.0.12)\n",
            "Requirement already satisfied: annotated-types>=0.6.0 in /usr/local/lib/python3.11/dist-packages (from pydantic<3->wandb) (0.7.0)\n",
            "Requirement already satisfied: pydantic-core==2.33.2 in /usr/local/lib/python3.11/dist-packages (from pydantic<3->wandb) (2.33.2)\n",
            "Requirement already satisfied: typing-inspection>=0.4.0 in /usr/local/lib/python3.11/dist-packages (from pydantic<3->wandb) (0.4.1)\n",
            "Requirement already satisfied: charset-normalizer<4,>=2 in /usr/local/lib/python3.11/dist-packages (from requests<3,>=2.0.0->wandb) (3.4.3)\n",
            "Requirement already satisfied: idna<4,>=2.5 in /usr/local/lib/python3.11/dist-packages (from requests<3,>=2.0.0->wandb) (3.10)\n",
            "Requirement already satisfied: urllib3<3,>=1.21.1 in /usr/local/lib/python3.11/dist-packages (from requests<3,>=2.0.0->wandb) (2.5.0)\n",
            "Requirement already satisfied: certifi>=2017.4.17 in /usr/local/lib/python3.11/dist-packages (from requests<3,>=2.0.0->wandb) (2025.8.3)\n",
            "Requirement already satisfied: soupsieve>1.2 in /usr/local/lib/python3.11/dist-packages (from beautifulsoup4->gdown) (2.7)\n",
            "Requirement already satisfied: PySocks!=1.5.7,>=1.5.6 in /usr/local/lib/python3.11/dist-packages (from requests[socks]->gdown) (1.7.1)\n",
            "Requirement already satisfied: smmap<6,>=3.0.1 in /usr/local/lib/python3.11/dist-packages (from gitdb<5,>=4.0.1->gitpython!=3.1.29,>=1.0.0->wandb) (5.0.2)\n",
            "\u001b[34m\u001b[1mwandb\u001b[0m: Logging into wandb.ai. (Learn how to deploy a W&B server locally: https://wandb.me/wandb-server)\n",
            "\u001b[34m\u001b[1mwandb\u001b[0m: You can find your API key in your browser here: https://wandb.ai/authorize?ref=models\n",
            "\u001b[34m\u001b[1mwandb\u001b[0m: Paste an API key from your profile and hit enter, or press ctrl+c to quit: \n",
            "\u001b[34m\u001b[1mwandb\u001b[0m: No netrc file found, creating one.\n",
            "\u001b[34m\u001b[1mwandb\u001b[0m: Appending key for api.wandb.ai to your netrc file: /root/.netrc\n",
            "\u001b[34m\u001b[1mwandb\u001b[0m: Currently logged in as: \u001b[33mvaishnavipathak\u001b[0m (\u001b[33mvaishnavipathak-iit-madras\u001b[0m) to \u001b[32mhttps://api.wandb.ai\u001b[0m. Use \u001b[1m`wandb login --relogin`\u001b[0m to force relogin\n",
            "Downloading...\n",
            "From (original): https://drive.google.com/uc?id=1cqAJ3b_TIEqHnKQGLGjxCBKS3MUatGa6\n",
            "From (redirected): https://drive.google.com/uc?id=1cqAJ3b_TIEqHnKQGLGjxCBKS3MUatGa6&confirm=t&uuid=635fcc0f-cf98-4b6d-9539-d0a280d43ff6\n",
            "To: /content/Garbage_classification.zip\n",
            "100% 43.0M/43.0M [00:00<00:00, 57.1MB/s]\n",
            "Setup complete. Dataset downloaded and unzipped.\n"
          ]
        }
      ]
    },
    {
      "cell_type": "code",
      "source": [
        "# Define Transformations\n",
        "IMG_SIZE = 224\n",
        "# We create two pipelines.\n",
        "# The train transform randomly flips and rotates images for data augmentation.\n",
        "# The val transform does not, ensuring we validate on unaltered images.\n",
        "# Both pipelines resize, convert images to PyTorch Tensors, and normalize them.\n",
        "#  we took Image size as 224*224 and batch size as 32.\n",
        "data_transforms = {\n",
        "    'train': transforms.Compose([\n",
        "        transforms.Resize((IMG_SIZE, IMG_SIZE)),\n",
        "        transforms.RandomHorizontalFlip(),\n",
        "        transforms.RandomRotation(10),\n",
        "        transforms.ToTensor(),\n",
        "        transforms.Normalize(mean=[0.485, 0.456, 0.406], std=[0.229, 0.224, 0.225])\n",
        "    ]),\n",
        "    'val': transforms.Compose([\n",
        "        transforms.Resize((IMG_SIZE, IMG_SIZE)),\n",
        "        transforms.ToTensor(),\n",
        "        transforms.Normalize(mean=[0.485, 0.456, 0.406], std=[0.229, 0.224, 0.225])\n",
        "    ]),\n",
        "}\n",
        "\n",
        "# Load and Split the Dataset\n",
        "dataset_folder = os.path.join(DATA_DIR, os.listdir(DATA_DIR)[0])\n",
        "full_dataset = datasets.ImageFolder(dataset_folder)\n",
        "\n",
        "train_size = int(0.8 * len(full_dataset)) # 80% training data and 20% data for vatidation.\n",
        "val_size = len(full_dataset) - train_size\n",
        "generator = torch.Generator().manual_seed(42)\n",
        "train_dataset, val_dataset = random_split(full_dataset, [train_size, val_size], generator=generator)\n",
        "\n",
        "train_dataset.dataset.transform = data_transforms['train']\n",
        "val_dataset.dataset.transform = data_transforms['val']\n",
        "\n",
        "#Create DataLoaders\n",
        "#  Data Loaders is powerful PyTorch tool that groups our dataset into batches and shuffles the training data each epoch to improve learning.\n",
        "BATCH_SIZE = 32\n",
        "train_loader = DataLoader(train_dataset, batch_size=BATCH_SIZE, shuffle=True, num_workers=2)\n",
        "val_loader = DataLoader(val_dataset, batch_size=BATCH_SIZE, shuffle=False, num_workers=2)\n",
        "\n",
        "# Verify\n",
        "print(f\"Total images: {len(full_dataset)}\")\n",
        "print(f\"Training images: {len(train_dataset)}\")\n",
        "print(f\"Validation images: {len(val_dataset)}\")\n",
        "images, labels = next(iter(train_loader))\n",
        "print(f\"\\nBatch of images shape: {images.shape}\")"
      ],
      "metadata": {
        "colab": {
          "base_uri": "https://localhost:8080/"
        },
        "id": "wH3JR4H0aGJF",
        "outputId": "7999151a-f667-4a5a-dbe6-ca9e36757ee6"
      },
      "execution_count": 2,
      "outputs": [
        {
          "output_type": "stream",
          "name": "stdout",
          "text": [
            "Total images: 2527\n",
            "Training images: 2021\n",
            "Validation images: 506\n",
            "\n",
            "Batch of images shape: torch.Size([32, 3, 224, 224])\n"
          ]
        }
      ]
    },
    {
      "cell_type": "markdown",
      "source": [
        "class SimpleCNN defines our model as a Python class that inherits from PyTorch's base neural network module.\n",
        "\n",
        "init is the constructor where we define all the layers our network will use.\n",
        "\n",
        "I have grouped them into two nn.Sequential blocks: self.features for the convolutional part and self.classifier for the final dense layers.\n"
      ],
      "metadata": {
        "id": "fDEZy46vkGW-"
      }
    },
    {
      "cell_type": "code",
      "source": [
        "import torch.nn as nn\n",
        "\n",
        "class SimpleCNN(nn.Module):\n",
        "    def __init__(self, num_classes=6, dense_neurons=256, dropout_rate=0.5):\n",
        "        \"\"\"\n",
        "        Initializes the SimpleCNN model.\n",
        "\n",
        "        Args:\n",
        "            num_classes (int): The number of output classes (6 for our dataset).\n",
        "            dense_neurons (int): The number of neurons in the hidden dense layer.\n",
        "            dropout_rate (float): The dropout probability.\n",
        "        \"\"\"\n",
        "        super(SimpleCNN, self).__init__()\n",
        "\n",
        "        # 5 Conv-ReLU-MaxPool blocks as the \"feature extractor\".\n",
        "        self.features = nn.Sequential(\n",
        "            nn.Conv2d(in_channels=3, out_channels=32, kernel_size=3, padding=1),\n",
        "            nn.ReLU(),\n",
        "            nn.MaxPool2d(kernel_size=2, stride=2),\n",
        "\n",
        "            nn.Conv2d(in_channels=32, out_channels=32, kernel_size=3, padding=1),\n",
        "            nn.ReLU(),\n",
        "            nn.MaxPool2d(kernel_size=2, stride=2),\n",
        "\n",
        "            nn.Conv2d(in_channels=32, out_channels=32, kernel_size=3, padding=1),\n",
        "            nn.ReLU(),\n",
        "            nn.MaxPool2d(kernel_size=2, stride=2),\n",
        "\n",
        "            nn.Conv2d(in_channels=32, out_channels=32, kernel_size=3, padding=1),\n",
        "            nn.ReLU(),\n",
        "            nn.MaxPool2d(kernel_size=2, stride=2),\n",
        "\n",
        "            nn.Conv2d(in_channels=32, out_channels=32, kernel_size=3, padding=1),\n",
        "            nn.ReLU(),\n",
        "            nn.MaxPool2d(kernel_size=2, stride=2)\n",
        "        )\n",
        "\n",
        "        # defines the dense layer and output layer as the \"classifier\"\n",
        "        self.classifier = nn.Sequential(\n",
        "            nn.Flatten(),\n",
        "            nn.Linear(in_features=32 * 7 * 7, out_features=dense_neurons),\n",
        "            nn.ReLU(),\n",
        "            nn.Dropout(p=dropout_rate),\n",
        "            nn.Linear(in_features=dense_neurons, out_features=num_classes)\n",
        "        )\n",
        "\n",
        "    def forward(self, x):\n",
        "        \"\"\"Defines how data flows through the network.\"\"\"\n",
        "        x = self.features(x)\n",
        "        x = self.classifier(x)\n",
        "        return x\n",
        "\n",
        "model = SimpleCNN()\n",
        "print(model)"
      ],
      "metadata": {
        "colab": {
          "base_uri": "https://localhost:8080/"
        },
        "id": "p9cg0Jt6i0hg",
        "outputId": "8cc89f18-79ec-48bf-94ce-c65a9748dce2"
      },
      "execution_count": 3,
      "outputs": [
        {
          "output_type": "stream",
          "name": "stdout",
          "text": [
            "SimpleCNN(\n",
            "  (features): Sequential(\n",
            "    (0): Conv2d(3, 32, kernel_size=(3, 3), stride=(1, 1), padding=(1, 1))\n",
            "    (1): ReLU()\n",
            "    (2): MaxPool2d(kernel_size=2, stride=2, padding=0, dilation=1, ceil_mode=False)\n",
            "    (3): Conv2d(32, 32, kernel_size=(3, 3), stride=(1, 1), padding=(1, 1))\n",
            "    (4): ReLU()\n",
            "    (5): MaxPool2d(kernel_size=2, stride=2, padding=0, dilation=1, ceil_mode=False)\n",
            "    (6): Conv2d(32, 32, kernel_size=(3, 3), stride=(1, 1), padding=(1, 1))\n",
            "    (7): ReLU()\n",
            "    (8): MaxPool2d(kernel_size=2, stride=2, padding=0, dilation=1, ceil_mode=False)\n",
            "    (9): Conv2d(32, 32, kernel_size=(3, 3), stride=(1, 1), padding=(1, 1))\n",
            "    (10): ReLU()\n",
            "    (11): MaxPool2d(kernel_size=2, stride=2, padding=0, dilation=1, ceil_mode=False)\n",
            "    (12): Conv2d(32, 32, kernel_size=(3, 3), stride=(1, 1), padding=(1, 1))\n",
            "    (13): ReLU()\n",
            "    (14): MaxPool2d(kernel_size=2, stride=2, padding=0, dilation=1, ceil_mode=False)\n",
            "  )\n",
            "  (classifier): Sequential(\n",
            "    (0): Flatten(start_dim=1, end_dim=-1)\n",
            "    (1): Linear(in_features=1568, out_features=256, bias=True)\n",
            "    (2): ReLU()\n",
            "    (3): Dropout(p=0.5, inplace=False)\n",
            "    (4): Linear(in_features=256, out_features=6, bias=True)\n",
            "  )\n",
            ")\n"
          ]
        }
      ]
    },
    {
      "cell_type": "code",
      "source": [
        "import torch.optim as optim\n",
        "\n",
        "device = torch.device(\"cuda\")\n",
        "print(f\"Using device: {device}\")\n",
        "\n",
        "# instance of the model class we defined earlier\n",
        "model = SimpleCNN()\n",
        "# following command moves the model's parameters and computations onto the GPU.\n",
        "model.to(device)\n",
        "\n",
        "# Instantiate Loss Function and Optimizer\n",
        "criterion = nn.CrossEntropyLoss()\n",
        "optimizer = optim.Adam(model.parameters(), lr=0.001)\n",
        "\n",
        "print(\"Model, criterion, and optimizer are ready and configured for GPU.\")"
      ],
      "metadata": {
        "colab": {
          "base_uri": "https://localhost:8080/"
        },
        "id": "9dbRLCipmfUq",
        "outputId": "245e3dac-6984-45a5-ab07-576c9ddd56f9"
      },
      "execution_count": 4,
      "outputs": [
        {
          "output_type": "stream",
          "name": "stdout",
          "text": [
            "Using device: cuda\n",
            "Model, criterion, and optimizer are ready and configured for GPU.\n"
          ]
        }
      ]
    },
    {
      "cell_type": "code",
      "source": [
        "def train_model(model, criterion, optimizer, train_loader, val_loader, num_epochs=10):\n",
        "\n",
        "    # Loop over the specified number of epochs\n",
        "    for epoch in range(num_epochs):\n",
        "        print(f\"Starting Epoch {epoch+1}/{num_epochs}\")\n",
        "\n",
        "        # Training Phase\n",
        "        model.train()\n",
        "        running_loss = 0.0\n",
        "        running_corrects = 0\n",
        "\n",
        "        # Iterate over the training data\n",
        "        for inputs, labels in train_loader:\n",
        "            # Move inputs and labels to the GPU\n",
        "            inputs, labels = inputs.to(device), labels.to(device)\n",
        "\n",
        "            # Zero the gradients\n",
        "            optimizer.zero_grad()\n",
        "\n",
        "            # Forward pass, compute predicted outputs\n",
        "            outputs = model(inputs)\n",
        "            loss = criterion(outputs, labels)\n",
        "\n",
        "            # Backward pass, compute gradient of the loss\n",
        "            loss.backward()\n",
        "\n",
        "            #Step: update the weights\n",
        "            optimizer.step()\n",
        "\n",
        "            # Calculate running statistics\n",
        "            _, preds = torch.max(outputs, 1)\n",
        "            running_loss += loss.item() * inputs.size(0)\n",
        "            running_corrects += torch.sum(preds == labels.data)\n",
        "\n",
        "        epoch_loss = running_loss / len(train_loader.dataset)\n",
        "        epoch_acc = running_corrects.double() / len(train_loader.dataset)\n",
        "\n",
        "        # Validation Phase\n",
        "        model.eval()\n",
        "        val_loss = 0.0\n",
        "        val_corrects = 0\n",
        "\n",
        "        # Disable gradient calculation for validation to save memory and computations.\n",
        "        with torch.no_grad():\n",
        "            # Iterate over the validation data\n",
        "            for inputs, labels in val_loader:\n",
        "                inputs, labels = inputs.to(device), labels.to(device)\n",
        "\n",
        "                outputs = model(inputs)\n",
        "                loss = criterion(outputs, labels)\n",
        "\n",
        "                _, preds = torch.max(outputs, 1)\n",
        "                val_loss += loss.item() * inputs.size(0)\n",
        "                val_corrects += torch.sum(preds == labels.data)\n",
        "\n",
        "        val_epoch_loss = val_loss / len(val_loader.dataset)\n",
        "        val_epoch_acc = val_corrects.double() / len(val_loader.dataset)\n",
        "\n",
        "        print(f\"Train Loss: {epoch_loss:.4f}, Train Acc: {epoch_acc:.4f} | \"\n",
        "              f\"Val Loss: {val_epoch_loss:.4f}, Val Acc: {val_epoch_acc:.4f}\\n\")\n",
        "\n",
        "    print(\"Training Complete\")\n",
        "    return model\n",
        "\n",
        "trained_model = train_model(model, criterion, optimizer, train_loader, val_loader, num_epochs=10)"
      ],
      "metadata": {
        "colab": {
          "base_uri": "https://localhost:8080/"
        },
        "id": "tUnqMR4fpaKK",
        "outputId": "86d91888-aa5c-49d5-ca4a-045992d5fbe4"
      },
      "execution_count": 5,
      "outputs": [
        {
          "output_type": "stream",
          "name": "stdout",
          "text": [
            "Starting Epoch 1/10\n",
            "Train Loss: 1.6423, Train Acc: 0.2820 | Val Loss: 1.5663, Val Acc: 0.3300\n",
            "\n",
            "Starting Epoch 2/10\n",
            "Train Loss: 1.4502, Train Acc: 0.4107 | Val Loss: 1.4049, Val Acc: 0.4466\n",
            "\n",
            "Starting Epoch 3/10\n",
            "Train Loss: 1.3323, Train Acc: 0.4755 | Val Loss: 1.2589, Val Acc: 0.5099\n",
            "\n",
            "Starting Epoch 4/10\n",
            "Train Loss: 1.1805, Train Acc: 0.5443 | Val Loss: 1.1945, Val Acc: 0.5415\n",
            "\n",
            "Starting Epoch 5/10\n",
            "Train Loss: 1.0970, Train Acc: 0.5839 | Val Loss: 1.1105, Val Acc: 0.5731\n",
            "\n",
            "Starting Epoch 6/10\n",
            "Train Loss: 1.0398, Train Acc: 0.6051 | Val Loss: 1.1048, Val Acc: 0.6047\n",
            "\n",
            "Starting Epoch 7/10\n",
            "Train Loss: 0.9534, Train Acc: 0.6482 | Val Loss: 0.9890, Val Acc: 0.6324\n",
            "\n",
            "Starting Epoch 8/10\n",
            "Train Loss: 0.8594, Train Acc: 0.6784 | Val Loss: 0.9961, Val Acc: 0.6403\n",
            "\n",
            "Starting Epoch 9/10\n",
            "Train Loss: 0.8413, Train Acc: 0.6883 | Val Loss: 0.9278, Val Acc: 0.6640\n",
            "\n",
            "Starting Epoch 10/10\n",
            "Train Loss: 0.7876, Train Acc: 0.7115 | Val Loss: 0.8914, Val Acc: 0.6858\n",
            "\n",
            "Training Complete\n"
          ]
        }
      ]
    },
    {
      "cell_type": "markdown",
      "source": [
        "Training accuracy reached 76% and validation accuracy reached 71% in just 10 epochs. **Early Signs of Overfitting**"
      ],
      "metadata": {
        "id": "JD4n0ZUCtHAo"
      }
    },
    {
      "cell_type": "markdown",
      "source": [
        "Now, **wandb**"
      ],
      "metadata": {
        "id": "6yk8qlPOs0gA"
      }
    },
    {
      "cell_type": "code",
      "source": [
        "sweep_config = {\n",
        "    'method': 'bayes',\n",
        "    'metric': {\n",
        "      'name': 'val_accuracy',\n",
        "      'goal': 'maximize'\n",
        "    },\n",
        "    'parameters': {\n",
        "        'optimizer': {\n",
        "            'values': ['adam', 'sgd']\n",
        "        },\n",
        "        'learning_rate': {\n",
        "            'values': [0.01, 0.001, 0.0001]\n",
        "        },\n",
        "        'dense_neurons': {\n",
        "            'values': [128, 256, 512]\n",
        "        },\n",
        "        'dropout': {\n",
        "            'values': [0.2, 0.3, 0.5]\n",
        "        }\n",
        "    }\n",
        "}"
      ],
      "metadata": {
        "id": "tfdNTQ3asZg-"
      },
      "execution_count": 6,
      "outputs": []
    },
    {
      "cell_type": "code",
      "source": [
        "import wandb\n",
        "\n",
        "def train():\n",
        "    with wandb.init() as run:\n",
        "        config = wandb.config\n",
        "\n",
        "        # Create the model using hyperparameters from the sweep\n",
        "        model = SimpleCNN(\n",
        "            dense_neurons=config.dense_neurons,\n",
        "            dropout_rate=config.dropout\n",
        "        ).to(device)\n",
        "\n",
        "        if config.optimizer == 'adam':\n",
        "            optimizer = optim.Adam(model.parameters(), lr=config.learning_rate)\n",
        "        else:\n",
        "            optimizer = optim.SGD(model.parameters(), lr=config.learning_rate, momentum=0.9)\n",
        "        # loss function\n",
        "        criterion = nn.CrossEntropyLoss()\n",
        "\n",
        "        # Training Loop (for 10 epochs)\n",
        "        for epoch in range(10):\n",
        "            model.train()\n",
        "            for inputs, labels in train_loader:\n",
        "                inputs, labels = inputs.to(device), labels.to(device)\n",
        "                optimizer.zero_grad()\n",
        "                outputs = model(inputs)\n",
        "                train_loss = criterion(outputs, labels)\n",
        "                train_loss.backward()\n",
        "                optimizer.step()\n",
        "\n",
        "            # Validation Loop\n",
        "            model.eval()\n",
        "            val_loss, val_corrects = 0.0, 0\n",
        "            with torch.no_grad():\n",
        "                for inputs, labels in val_loader:\n",
        "                    inputs, labels = inputs.to(device), labels.to(device)\n",
        "                    outputs = model(inputs)\n",
        "                    loss = criterion(outputs, labels)\n",
        "                    _, preds = torch.max(outputs, 1)\n",
        "                    val_loss += loss.item() * inputs.size(0)\n",
        "                    val_corrects += torch.sum(preds == labels.data)\n",
        "\n",
        "            # Log Metrics\n",
        "            # Calculate and log the metrics that wandb will track\n",
        "            avg_val_loss = val_loss / len(val_loader.dataset)\n",
        "            val_accuracy = val_corrects.double() / len(val_loader.dataset)\n",
        "\n",
        "            wandb.log({\n",
        "                \"epoch\": epoch,\n",
        "                \"val_loss\": avg_val_loss,\n",
        "                \"val_accuracy\": val_accuracy\n",
        "            })"
      ],
      "metadata": {
        "id": "WrN7zWKTtkTZ"
      },
      "execution_count": 7,
      "outputs": []
    },
    {
      "cell_type": "code",
      "source": [
        "# Initialize the sweep\n",
        "sweep_id = wandb.sweep(sweep_config, project=\"garbage-classification-sweep\")\n",
        "\n",
        "# Start the agent\n",
        "# The agent will run the 'train' function 15 times with different hyperparameters.\n",
        "wandb.agent(sweep_id, function=train, count=15)"
      ],
      "metadata": {
        "colab": {
          "base_uri": "https://localhost:8080/",
          "height": 1000
        },
        "id": "kd_hrCcRuFn8",
        "outputId": "f052294b-81a5-4e89-d7b5-0be43d793f1b"
      },
      "execution_count": null,
      "outputs": [
        {
          "metadata": {
            "tags": null
          },
          "name": "stdout",
          "output_type": "stream",
          "text": [
            "Create sweep with ID: xpb5yu1b\n",
            "Sweep URL: https://wandb.ai/vaishnavipathak-iit-madras/garbage-classification-sweep/sweeps/xpb5yu1b\n"
          ]
        },
        {
          "metadata": {
            "tags": null
          },
          "name": "stderr",
          "output_type": "stream",
          "text": [
            "\u001b[34m\u001b[1mwandb\u001b[0m: Agent Starting Run: i6pnakww with config:\n",
            "\u001b[34m\u001b[1mwandb\u001b[0m: \tdense_neurons: 128\n",
            "\u001b[34m\u001b[1mwandb\u001b[0m: \tdropout: 0.5\n",
            "\u001b[34m\u001b[1mwandb\u001b[0m: \tlearning_rate: 0.0001\n",
            "\u001b[34m\u001b[1mwandb\u001b[0m: \toptimizer: sgd\n",
            "\u001b[34m\u001b[1mwandb\u001b[0m: Currently logged in as: \u001b[33mvaishnavipathak\u001b[0m (\u001b[33mvaishnavipathak-iit-madras\u001b[0m) to \u001b[32mhttps://api.wandb.ai\u001b[0m. Use \u001b[1m`wandb login --relogin`\u001b[0m to force relogin\n"
          ]
        },
        {
          "data": {
            "text/html": [
              "Tracking run with wandb version 0.21.1"
            ],
            "text/plain": [
              "<IPython.core.display.HTML object>"
            ]
          },
          "metadata": {},
          "output_type": "display_data"
        },
        {
          "data": {
            "text/html": [
              "Run data is saved locally in <code>/content/wandb/run-20250819_015737-i6pnakww</code>"
            ],
            "text/plain": [
              "<IPython.core.display.HTML object>"
            ]
          },
          "metadata": {},
          "output_type": "display_data"
        },
        {
          "data": {
            "text/html": [
              "Syncing run <strong><a href='https://wandb.ai/vaishnavipathak-iit-madras/garbage-classification-sweep/runs/i6pnakww' target=\"_blank\">rose-sweep-1</a></strong> to <a href='https://wandb.ai/vaishnavipathak-iit-madras/garbage-classification-sweep' target=\"_blank\">Weights & Biases</a> (<a href='https://wandb.me/developer-guide' target=\"_blank\">docs</a>)<br>Sweep page: <a href='https://wandb.ai/vaishnavipathak-iit-madras/garbage-classification-sweep/sweeps/xpb5yu1b' target=\"_blank\">https://wandb.ai/vaishnavipathak-iit-madras/garbage-classification-sweep/sweeps/xpb5yu1b</a>"
            ],
            "text/plain": [
              "<IPython.core.display.HTML object>"
            ]
          },
          "metadata": {},
          "output_type": "display_data"
        },
        {
          "data": {
            "text/html": [
              " View project at <a href='https://wandb.ai/vaishnavipathak-iit-madras/garbage-classification-sweep' target=\"_blank\">https://wandb.ai/vaishnavipathak-iit-madras/garbage-classification-sweep</a>"
            ],
            "text/plain": [
              "<IPython.core.display.HTML object>"
            ]
          },
          "metadata": {},
          "output_type": "display_data"
        },
        {
          "data": {
            "text/html": [
              " View sweep at <a href='https://wandb.ai/vaishnavipathak-iit-madras/garbage-classification-sweep/sweeps/xpb5yu1b' target=\"_blank\">https://wandb.ai/vaishnavipathak-iit-madras/garbage-classification-sweep/sweeps/xpb5yu1b</a>"
            ],
            "text/plain": [
              "<IPython.core.display.HTML object>"
            ]
          },
          "metadata": {},
          "output_type": "display_data"
        },
        {
          "data": {
            "text/html": [
              " View run at <a href='https://wandb.ai/vaishnavipathak-iit-madras/garbage-classification-sweep/runs/i6pnakww' target=\"_blank\">https://wandb.ai/vaishnavipathak-iit-madras/garbage-classification-sweep/runs/i6pnakww</a>"
            ],
            "text/plain": [
              "<IPython.core.display.HTML object>"
            ]
          },
          "metadata": {},
          "output_type": "display_data"
        },
        {
          "data": {
            "text/html": [],
            "text/plain": [
              "<IPython.core.display.HTML object>"
            ]
          },
          "metadata": {},
          "output_type": "display_data"
        },
        {
          "data": {
            "text/html": [
              "<br>    <style><br>        .wandb-row {<br>            display: flex;<br>            flex-direction: row;<br>            flex-wrap: wrap;<br>            justify-content: flex-start;<br>            width: 100%;<br>        }<br>        .wandb-col {<br>            display: flex;<br>            flex-direction: column;<br>            flex-basis: 100%;<br>            flex: 1;<br>            padding: 10px;<br>        }<br>    </style><br><div class=\"wandb-row\"><div class=\"wandb-col\"><h3>Run history:</h3><br/><table class=\"wandb\"><tr><td>epoch</td><td>▁▂▃▃▄▅▆▆▇█</td></tr><tr><td>val_accuracy</td><td>▁▁▁▁▁▁▁▁▁▁</td></tr><tr><td>val_loss</td><td>█▇▆▅▅▄▃▂▂▁</td></tr></table><br/></div><div class=\"wandb-col\"><h3>Run summary:</h3><br/><table class=\"wandb\"><tr><td>epoch</td><td>9</td></tr><tr><td>val_accuracy</td><td>0.15217</td></tr><tr><td>val_loss</td><td>1.78008</td></tr></table><br/></div></div>"
            ],
            "text/plain": [
              "<IPython.core.display.HTML object>"
            ]
          },
          "metadata": {},
          "output_type": "display_data"
        },
        {
          "data": {
            "text/html": [
              " View run <strong style=\"color:#cdcd00\">rose-sweep-1</strong> at: <a href='https://wandb.ai/vaishnavipathak-iit-madras/garbage-classification-sweep/runs/i6pnakww' target=\"_blank\">https://wandb.ai/vaishnavipathak-iit-madras/garbage-classification-sweep/runs/i6pnakww</a><br> View project at: <a href='https://wandb.ai/vaishnavipathak-iit-madras/garbage-classification-sweep' target=\"_blank\">https://wandb.ai/vaishnavipathak-iit-madras/garbage-classification-sweep</a><br>Synced 5 W&B file(s), 0 media file(s), 0 artifact file(s) and 0 other file(s)"
            ],
            "text/plain": [
              "<IPython.core.display.HTML object>"
            ]
          },
          "metadata": {},
          "output_type": "display_data"
        },
        {
          "data": {
            "text/html": [
              "Find logs at: <code>./wandb/run-20250819_015737-i6pnakww/logs</code>"
            ],
            "text/plain": [
              "<IPython.core.display.HTML object>"
            ]
          },
          "metadata": {},
          "output_type": "display_data"
        },
        {
          "metadata": {
            "tags": null
          },
          "name": "stderr",
          "output_type": "stream",
          "text": [
            "\u001b[34m\u001b[1mwandb\u001b[0m: Agent Starting Run: 1upu7ato with config:\n",
            "\u001b[34m\u001b[1mwandb\u001b[0m: \tdense_neurons: 256\n",
            "\u001b[34m\u001b[1mwandb\u001b[0m: \tdropout: 0.5\n",
            "\u001b[34m\u001b[1mwandb\u001b[0m: \tlearning_rate: 0.0001\n",
            "\u001b[34m\u001b[1mwandb\u001b[0m: \toptimizer: adam\n"
          ]
        },
        {
          "data": {
            "text/html": [
              "Tracking run with wandb version 0.21.1"
            ],
            "text/plain": [
              "<IPython.core.display.HTML object>"
            ]
          },
          "metadata": {},
          "output_type": "display_data"
        },
        {
          "data": {
            "text/html": [
              "Run data is saved locally in <code>/content/wandb/run-20250819_015920-1upu7ato</code>"
            ],
            "text/plain": [
              "<IPython.core.display.HTML object>"
            ]
          },
          "metadata": {},
          "output_type": "display_data"
        },
        {
          "data": {
            "text/html": [
              "Syncing run <strong><a href='https://wandb.ai/vaishnavipathak-iit-madras/garbage-classification-sweep/runs/1upu7ato' target=\"_blank\">trim-sweep-2</a></strong> to <a href='https://wandb.ai/vaishnavipathak-iit-madras/garbage-classification-sweep' target=\"_blank\">Weights & Biases</a> (<a href='https://wandb.me/developer-guide' target=\"_blank\">docs</a>)<br>Sweep page: <a href='https://wandb.ai/vaishnavipathak-iit-madras/garbage-classification-sweep/sweeps/xpb5yu1b' target=\"_blank\">https://wandb.ai/vaishnavipathak-iit-madras/garbage-classification-sweep/sweeps/xpb5yu1b</a>"
            ],
            "text/plain": [
              "<IPython.core.display.HTML object>"
            ]
          },
          "metadata": {},
          "output_type": "display_data"
        },
        {
          "data": {
            "text/html": [
              " View project at <a href='https://wandb.ai/vaishnavipathak-iit-madras/garbage-classification-sweep' target=\"_blank\">https://wandb.ai/vaishnavipathak-iit-madras/garbage-classification-sweep</a>"
            ],
            "text/plain": [
              "<IPython.core.display.HTML object>"
            ]
          },
          "metadata": {},
          "output_type": "display_data"
        },
        {
          "data": {
            "text/html": [
              " View sweep at <a href='https://wandb.ai/vaishnavipathak-iit-madras/garbage-classification-sweep/sweeps/xpb5yu1b' target=\"_blank\">https://wandb.ai/vaishnavipathak-iit-madras/garbage-classification-sweep/sweeps/xpb5yu1b</a>"
            ],
            "text/plain": [
              "<IPython.core.display.HTML object>"
            ]
          },
          "metadata": {},
          "output_type": "display_data"
        },
        {
          "data": {
            "text/html": [
              " View run at <a href='https://wandb.ai/vaishnavipathak-iit-madras/garbage-classification-sweep/runs/1upu7ato' target=\"_blank\">https://wandb.ai/vaishnavipathak-iit-madras/garbage-classification-sweep/runs/1upu7ato</a>"
            ],
            "text/plain": [
              "<IPython.core.display.HTML object>"
            ]
          },
          "metadata": {},
          "output_type": "display_data"
        },
        {
          "data": {
            "text/html": [],
            "text/plain": [
              "<IPython.core.display.HTML object>"
            ]
          },
          "metadata": {},
          "output_type": "display_data"
        },
        {
          "data": {
            "text/html": [
              "<br>    <style><br>        .wandb-row {<br>            display: flex;<br>            flex-direction: row;<br>            flex-wrap: wrap;<br>            justify-content: flex-start;<br>            width: 100%;<br>        }<br>        .wandb-col {<br>            display: flex;<br>            flex-direction: column;<br>            flex-basis: 100%;<br>            flex: 1;<br>            padding: 10px;<br>        }<br>    </style><br><div class=\"wandb-row\"><div class=\"wandb-col\"><h3>Run history:</h3><br/><table class=\"wandb\"><tr><td>epoch</td><td>▁▂▃▃▄▅▆▆▇█</td></tr><tr><td>val_accuracy</td><td>▁▅▅▆▆▆▇▇██</td></tr><tr><td>val_loss</td><td>█▆▅▄▃▃▂▂▁▁</td></tr></table><br/></div><div class=\"wandb-col\"><h3>Run summary:</h3><br/><table class=\"wandb\"><tr><td>epoch</td><td>9</td></tr><tr><td>val_accuracy</td><td>0.55138</td></tr><tr><td>val_loss</td><td>1.14853</td></tr></table><br/></div></div>"
            ],
            "text/plain": [
              "<IPython.core.display.HTML object>"
            ]
          },
          "metadata": {},
          "output_type": "display_data"
        },
        {
          "data": {
            "text/html": [
              " View run <strong style=\"color:#cdcd00\">trim-sweep-2</strong> at: <a href='https://wandb.ai/vaishnavipathak-iit-madras/garbage-classification-sweep/runs/1upu7ato' target=\"_blank\">https://wandb.ai/vaishnavipathak-iit-madras/garbage-classification-sweep/runs/1upu7ato</a><br> View project at: <a href='https://wandb.ai/vaishnavipathak-iit-madras/garbage-classification-sweep' target=\"_blank\">https://wandb.ai/vaishnavipathak-iit-madras/garbage-classification-sweep</a><br>Synced 5 W&B file(s), 0 media file(s), 0 artifact file(s) and 0 other file(s)"
            ],
            "text/plain": [
              "<IPython.core.display.HTML object>"
            ]
          },
          "metadata": {},
          "output_type": "display_data"
        },
        {
          "data": {
            "text/html": [
              "Find logs at: <code>./wandb/run-20250819_015920-1upu7ato/logs</code>"
            ],
            "text/plain": [
              "<IPython.core.display.HTML object>"
            ]
          },
          "metadata": {},
          "output_type": "display_data"
        },
        {
          "metadata": {
            "tags": null
          },
          "name": "stderr",
          "output_type": "stream",
          "text": [
            "\u001b[34m\u001b[1mwandb\u001b[0m: Sweep Agent: Waiting for job.\n",
            "\u001b[34m\u001b[1mwandb\u001b[0m: Job received.\n",
            "\u001b[34m\u001b[1mwandb\u001b[0m: Agent Starting Run: wo8m7clm with config:\n",
            "\u001b[34m\u001b[1mwandb\u001b[0m: \tdense_neurons: 256\n",
            "\u001b[34m\u001b[1mwandb\u001b[0m: \tdropout: 0.5\n",
            "\u001b[34m\u001b[1mwandb\u001b[0m: \tlearning_rate: 0.0001\n",
            "\u001b[34m\u001b[1mwandb\u001b[0m: \toptimizer: sgd\n"
          ]
        },
        {
          "data": {
            "text/html": [
              "Tracking run with wandb version 0.21.1"
            ],
            "text/plain": [
              "<IPython.core.display.HTML object>"
            ]
          },
          "metadata": {},
          "output_type": "display_data"
        },
        {
          "data": {
            "text/html": [
              "Run data is saved locally in <code>/content/wandb/run-20250819_020121-wo8m7clm</code>"
            ],
            "text/plain": [
              "<IPython.core.display.HTML object>"
            ]
          },
          "metadata": {},
          "output_type": "display_data"
        },
        {
          "data": {
            "text/html": [
              "Syncing run <strong><a href='https://wandb.ai/vaishnavipathak-iit-madras/garbage-classification-sweep/runs/wo8m7clm' target=\"_blank\">cerulean-sweep-3</a></strong> to <a href='https://wandb.ai/vaishnavipathak-iit-madras/garbage-classification-sweep' target=\"_blank\">Weights & Biases</a> (<a href='https://wandb.me/developer-guide' target=\"_blank\">docs</a>)<br>Sweep page: <a href='https://wandb.ai/vaishnavipathak-iit-madras/garbage-classification-sweep/sweeps/xpb5yu1b' target=\"_blank\">https://wandb.ai/vaishnavipathak-iit-madras/garbage-classification-sweep/sweeps/xpb5yu1b</a>"
            ],
            "text/plain": [
              "<IPython.core.display.HTML object>"
            ]
          },
          "metadata": {},
          "output_type": "display_data"
        },
        {
          "data": {
            "text/html": [
              " View project at <a href='https://wandb.ai/vaishnavipathak-iit-madras/garbage-classification-sweep' target=\"_blank\">https://wandb.ai/vaishnavipathak-iit-madras/garbage-classification-sweep</a>"
            ],
            "text/plain": [
              "<IPython.core.display.HTML object>"
            ]
          },
          "metadata": {},
          "output_type": "display_data"
        },
        {
          "data": {
            "text/html": [
              " View sweep at <a href='https://wandb.ai/vaishnavipathak-iit-madras/garbage-classification-sweep/sweeps/xpb5yu1b' target=\"_blank\">https://wandb.ai/vaishnavipathak-iit-madras/garbage-classification-sweep/sweeps/xpb5yu1b</a>"
            ],
            "text/plain": [
              "<IPython.core.display.HTML object>"
            ]
          },
          "metadata": {},
          "output_type": "display_data"
        },
        {
          "data": {
            "text/html": [
              " View run at <a href='https://wandb.ai/vaishnavipathak-iit-madras/garbage-classification-sweep/runs/wo8m7clm' target=\"_blank\">https://wandb.ai/vaishnavipathak-iit-madras/garbage-classification-sweep/runs/wo8m7clm</a>"
            ],
            "text/plain": [
              "<IPython.core.display.HTML object>"
            ]
          },
          "metadata": {},
          "output_type": "display_data"
        },
        {
          "data": {
            "text/html": [],
            "text/plain": [
              "<IPython.core.display.HTML object>"
            ]
          },
          "metadata": {},
          "output_type": "display_data"
        },
        {
          "data": {
            "text/html": [
              "<br>    <style><br>        .wandb-row {<br>            display: flex;<br>            flex-direction: row;<br>            flex-wrap: wrap;<br>            justify-content: flex-start;<br>            width: 100%;<br>        }<br>        .wandb-col {<br>            display: flex;<br>            flex-direction: column;<br>            flex-basis: 100%;<br>            flex: 1;<br>            padding: 10px;<br>        }<br>    </style><br><div class=\"wandb-row\"><div class=\"wandb-col\"><h3>Run history:</h3><br/><table class=\"wandb\"><tr><td>epoch</td><td>▁▂▃▃▄▅▆▆▇█</td></tr><tr><td>val_accuracy</td><td>▁▁▁███████</td></tr><tr><td>val_loss</td><td>█▇▆▅▅▄▃▂▂▁</td></tr></table><br/></div><div class=\"wandb-col\"><h3>Run summary:</h3><br/><table class=\"wandb\"><tr><td>epoch</td><td>9</td></tr><tr><td>val_accuracy</td><td>0.22925</td></tr><tr><td>val_loss</td><td>1.78258</td></tr></table><br/></div></div>"
            ],
            "text/plain": [
              "<IPython.core.display.HTML object>"
            ]
          },
          "metadata": {},
          "output_type": "display_data"
        },
        {
          "data": {
            "text/html": [
              " View run <strong style=\"color:#cdcd00\">cerulean-sweep-3</strong> at: <a href='https://wandb.ai/vaishnavipathak-iit-madras/garbage-classification-sweep/runs/wo8m7clm' target=\"_blank\">https://wandb.ai/vaishnavipathak-iit-madras/garbage-classification-sweep/runs/wo8m7clm</a><br> View project at: <a href='https://wandb.ai/vaishnavipathak-iit-madras/garbage-classification-sweep' target=\"_blank\">https://wandb.ai/vaishnavipathak-iit-madras/garbage-classification-sweep</a><br>Synced 5 W&B file(s), 0 media file(s), 0 artifact file(s) and 0 other file(s)"
            ],
            "text/plain": [
              "<IPython.core.display.HTML object>"
            ]
          },
          "metadata": {},
          "output_type": "display_data"
        },
        {
          "data": {
            "text/html": [
              "Find logs at: <code>./wandb/run-20250819_020121-wo8m7clm/logs</code>"
            ],
            "text/plain": [
              "<IPython.core.display.HTML object>"
            ]
          },
          "metadata": {},
          "output_type": "display_data"
        },
        {
          "metadata": {
            "tags": null
          },
          "name": "stderr",
          "output_type": "stream",
          "text": [
            "\u001b[34m\u001b[1mwandb\u001b[0m: Sweep Agent: Waiting for job.\n",
            "\u001b[34m\u001b[1mwandb\u001b[0m: Job received.\n",
            "\u001b[34m\u001b[1mwandb\u001b[0m: Agent Starting Run: p6cau64z with config:\n",
            "\u001b[34m\u001b[1mwandb\u001b[0m: \tdense_neurons: 256\n",
            "\u001b[34m\u001b[1mwandb\u001b[0m: \tdropout: 0.5\n",
            "\u001b[34m\u001b[1mwandb\u001b[0m: \tlearning_rate: 0.0001\n",
            "\u001b[34m\u001b[1mwandb\u001b[0m: \toptimizer: adam\n"
          ]
        },
        {
          "data": {
            "text/html": [
              "Tracking run with wandb version 0.21.1"
            ],
            "text/plain": [
              "<IPython.core.display.HTML object>"
            ]
          },
          "metadata": {},
          "output_type": "display_data"
        },
        {
          "data": {
            "text/html": [
              "Run data is saved locally in <code>/content/wandb/run-20250819_020337-p6cau64z</code>"
            ],
            "text/plain": [
              "<IPython.core.display.HTML object>"
            ]
          },
          "metadata": {},
          "output_type": "display_data"
        },
        {
          "data": {
            "text/html": [
              "Syncing run <strong><a href='https://wandb.ai/vaishnavipathak-iit-madras/garbage-classification-sweep/runs/p6cau64z' target=\"_blank\">restful-sweep-4</a></strong> to <a href='https://wandb.ai/vaishnavipathak-iit-madras/garbage-classification-sweep' target=\"_blank\">Weights & Biases</a> (<a href='https://wandb.me/developer-guide' target=\"_blank\">docs</a>)<br>Sweep page: <a href='https://wandb.ai/vaishnavipathak-iit-madras/garbage-classification-sweep/sweeps/xpb5yu1b' target=\"_blank\">https://wandb.ai/vaishnavipathak-iit-madras/garbage-classification-sweep/sweeps/xpb5yu1b</a>"
            ],
            "text/plain": [
              "<IPython.core.display.HTML object>"
            ]
          },
          "metadata": {},
          "output_type": "display_data"
        },
        {
          "data": {
            "text/html": [
              " View project at <a href='https://wandb.ai/vaishnavipathak-iit-madras/garbage-classification-sweep' target=\"_blank\">https://wandb.ai/vaishnavipathak-iit-madras/garbage-classification-sweep</a>"
            ],
            "text/plain": [
              "<IPython.core.display.HTML object>"
            ]
          },
          "metadata": {},
          "output_type": "display_data"
        },
        {
          "data": {
            "text/html": [
              " View sweep at <a href='https://wandb.ai/vaishnavipathak-iit-madras/garbage-classification-sweep/sweeps/xpb5yu1b' target=\"_blank\">https://wandb.ai/vaishnavipathak-iit-madras/garbage-classification-sweep/sweeps/xpb5yu1b</a>"
            ],
            "text/plain": [
              "<IPython.core.display.HTML object>"
            ]
          },
          "metadata": {},
          "output_type": "display_data"
        },
        {
          "data": {
            "text/html": [
              " View run at <a href='https://wandb.ai/vaishnavipathak-iit-madras/garbage-classification-sweep/runs/p6cau64z' target=\"_blank\">https://wandb.ai/vaishnavipathak-iit-madras/garbage-classification-sweep/runs/p6cau64z</a>"
            ],
            "text/plain": [
              "<IPython.core.display.HTML object>"
            ]
          },
          "metadata": {},
          "output_type": "display_data"
        },
        {
          "data": {
            "text/html": [],
            "text/plain": [
              "<IPython.core.display.HTML object>"
            ]
          },
          "metadata": {},
          "output_type": "display_data"
        },
        {
          "data": {
            "text/html": [
              "<br>    <style><br>        .wandb-row {<br>            display: flex;<br>            flex-direction: row;<br>            flex-wrap: wrap;<br>            justify-content: flex-start;<br>            width: 100%;<br>        }<br>        .wandb-col {<br>            display: flex;<br>            flex-direction: column;<br>            flex-basis: 100%;<br>            flex: 1;<br>            padding: 10px;<br>        }<br>    </style><br><div class=\"wandb-row\"><div class=\"wandb-col\"><h3>Run history:</h3><br/><table class=\"wandb\"><tr><td>epoch</td><td>▁▂▃▃▄▅▆▆▇█</td></tr><tr><td>val_accuracy</td><td>▁▄▅▆▆▇▇▇██</td></tr><tr><td>val_loss</td><td>█▅▄▃▃▃▂▂▁▁</td></tr></table><br/></div><div class=\"wandb-col\"><h3>Run summary:</h3><br/><table class=\"wandb\"><tr><td>epoch</td><td>9</td></tr><tr><td>val_accuracy</td><td>0.56522</td></tr><tr><td>val_loss</td><td>1.13978</td></tr></table><br/></div></div>"
            ],
            "text/plain": [
              "<IPython.core.display.HTML object>"
            ]
          },
          "metadata": {},
          "output_type": "display_data"
        },
        {
          "data": {
            "text/html": [
              " View run <strong style=\"color:#cdcd00\">restful-sweep-4</strong> at: <a href='https://wandb.ai/vaishnavipathak-iit-madras/garbage-classification-sweep/runs/p6cau64z' target=\"_blank\">https://wandb.ai/vaishnavipathak-iit-madras/garbage-classification-sweep/runs/p6cau64z</a><br> View project at: <a href='https://wandb.ai/vaishnavipathak-iit-madras/garbage-classification-sweep' target=\"_blank\">https://wandb.ai/vaishnavipathak-iit-madras/garbage-classification-sweep</a><br>Synced 5 W&B file(s), 0 media file(s), 0 artifact file(s) and 0 other file(s)"
            ],
            "text/plain": [
              "<IPython.core.display.HTML object>"
            ]
          },
          "metadata": {},
          "output_type": "display_data"
        },
        {
          "data": {
            "text/html": [
              "Find logs at: <code>./wandb/run-20250819_020337-p6cau64z/logs</code>"
            ],
            "text/plain": [
              "<IPython.core.display.HTML object>"
            ]
          },
          "metadata": {},
          "output_type": "display_data"
        },
        {
          "metadata": {
            "tags": null
          },
          "name": "stderr",
          "output_type": "stream",
          "text": [
            "\u001b[34m\u001b[1mwandb\u001b[0m: Agent Starting Run: kl3604gr with config:\n",
            "\u001b[34m\u001b[1mwandb\u001b[0m: \tdense_neurons: 512\n",
            "\u001b[34m\u001b[1mwandb\u001b[0m: \tdropout: 0.5\n",
            "\u001b[34m\u001b[1mwandb\u001b[0m: \tlearning_rate: 0.0001\n",
            "\u001b[34m\u001b[1mwandb\u001b[0m: \toptimizer: adam\n"
          ]
        },
        {
          "data": {
            "text/html": [
              "Tracking run with wandb version 0.21.1"
            ],
            "text/plain": [
              "<IPython.core.display.HTML object>"
            ]
          },
          "metadata": {},
          "output_type": "display_data"
        },
        {
          "data": {
            "text/html": [
              "Run data is saved locally in <code>/content/wandb/run-20250819_020525-kl3604gr</code>"
            ],
            "text/plain": [
              "<IPython.core.display.HTML object>"
            ]
          },
          "metadata": {},
          "output_type": "display_data"
        },
        {
          "data": {
            "text/html": [
              "Syncing run <strong><a href='https://wandb.ai/vaishnavipathak-iit-madras/garbage-classification-sweep/runs/kl3604gr' target=\"_blank\">helpful-sweep-5</a></strong> to <a href='https://wandb.ai/vaishnavipathak-iit-madras/garbage-classification-sweep' target=\"_blank\">Weights & Biases</a> (<a href='https://wandb.me/developer-guide' target=\"_blank\">docs</a>)<br>Sweep page: <a href='https://wandb.ai/vaishnavipathak-iit-madras/garbage-classification-sweep/sweeps/xpb5yu1b' target=\"_blank\">https://wandb.ai/vaishnavipathak-iit-madras/garbage-classification-sweep/sweeps/xpb5yu1b</a>"
            ],
            "text/plain": [
              "<IPython.core.display.HTML object>"
            ]
          },
          "metadata": {},
          "output_type": "display_data"
        },
        {
          "data": {
            "text/html": [
              " View project at <a href='https://wandb.ai/vaishnavipathak-iit-madras/garbage-classification-sweep' target=\"_blank\">https://wandb.ai/vaishnavipathak-iit-madras/garbage-classification-sweep</a>"
            ],
            "text/plain": [
              "<IPython.core.display.HTML object>"
            ]
          },
          "metadata": {},
          "output_type": "display_data"
        },
        {
          "data": {
            "text/html": [
              " View sweep at <a href='https://wandb.ai/vaishnavipathak-iit-madras/garbage-classification-sweep/sweeps/xpb5yu1b' target=\"_blank\">https://wandb.ai/vaishnavipathak-iit-madras/garbage-classification-sweep/sweeps/xpb5yu1b</a>"
            ],
            "text/plain": [
              "<IPython.core.display.HTML object>"
            ]
          },
          "metadata": {},
          "output_type": "display_data"
        },
        {
          "data": {
            "text/html": [
              " View run at <a href='https://wandb.ai/vaishnavipathak-iit-madras/garbage-classification-sweep/runs/kl3604gr' target=\"_blank\">https://wandb.ai/vaishnavipathak-iit-madras/garbage-classification-sweep/runs/kl3604gr</a>"
            ],
            "text/plain": [
              "<IPython.core.display.HTML object>"
            ]
          },
          "metadata": {},
          "output_type": "display_data"
        }
      ]
    },
    {
      "cell_type": "markdown",
      "source": [],
      "metadata": {
        "id": "U13AGE_7kE_K"
      }
    }
  ]
}